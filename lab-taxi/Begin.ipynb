{
 "cells": [
  {
   "cell_type": "code",
   "execution_count": 1,
   "metadata": {},
   "outputs": [
    {
     "name": "stdout",
     "output_type": "stream",
     "text": [
      "total 56\n",
      "drwxr-xr-x  4 jovyan jovyan  4096 Apr 27 16:52 .\n",
      "drwxr-xr-x 22 jovyan jovyan  4096 Apr 27 17:00 ..\n",
      "drwxr-xr-x  2 jovyan jovyan  4096 Apr 27 16:37 .ipynb_checkpoints\n",
      "-rw-r--r--  1 jovyan jovyan 13910 Apr 27 16:29 Begin.ipynb\n",
      "-rw-r--r--  1 jovyan jovyan  2767 Apr 27 13:39 README.md\n",
      "-rw-r--r--  1 jovyan jovyan  2623 Apr 27 16:51 Untitled.ipynb\n",
      "drwxr-xr-x  2 jovyan jovyan  4096 Apr 27 17:41 __pycache__\n",
      "-rw-r--r--  1 jovyan jovyan  3171 Apr 27 16:52 agent.py\n",
      "-rw-r--r--  1 jovyan jovyan  1974 Apr 27 13:36 agent.pyc\n",
      "-rw-r--r--  1 jovyan jovyan   177 Apr 27 15:57 main.py\n",
      "-rw-r--r--  1 jovyan jovyan  2484 Mar 27 10:46 monitor.py\n"
     ]
    }
   ],
   "source": [
    "ls -la"
   ]
  },
  {
   "cell_type": "code",
   "execution_count": 2,
   "metadata": {},
   "outputs": [
    {
     "name": "stdout",
     "output_type": "stream",
     "text": [
      "gym                  0.17.1         \n"
     ]
    }
   ],
   "source": [
    "pip3 list | grep gym"
   ]
  },
  {
   "cell_type": "code",
   "execution_count": 3,
   "metadata": {},
   "outputs": [
    {
     "name": "stdout",
     "output_type": "stream",
     "text": [
      "Defaulting to user installation because normal site-packages is not writeable\n",
      "Collecting gym==0.14\n",
      "  Downloading gym-0.14.0.tar.gz (1.6 MB)\n",
      "\u001b[K     |████████████████████████████████| 1.6 MB 1.1 MB/s \n",
      "\u001b[?25hRequirement already satisfied: scipy in /usr/local/lib/python3.7/dist-packages (from gym==0.14) (1.4.1)\n",
      "Requirement already satisfied: numpy>=1.10.4 in /usr/local/lib/python3.7/dist-packages (from gym==0.14) (1.18.3)\n",
      "Requirement already satisfied: six in /usr/local/lib/python3.7/dist-packages (from gym==0.14) (1.14.0)\n",
      "Collecting pyglet<=1.3.2,>=1.2.0\n",
      "  Downloading pyglet-1.3.2-py2.py3-none-any.whl (1.0 MB)\n",
      "\u001b[K     |████████████████████████████████| 1.0 MB 1.6 MB/s \n",
      "\u001b[?25hCollecting cloudpickle~=1.2.0\n",
      "  Downloading cloudpickle-1.2.2-py2.py3-none-any.whl (25 kB)\n",
      "Requirement already satisfied: future in /usr/local/lib/python3.7/dist-packages (from pyglet<=1.3.2,>=1.2.0->gym==0.14) (0.18.2)\n",
      "Building wheels for collected packages: gym\n",
      "  Building wheel for gym (setup.py) ... \u001b[?25ldone\n",
      "\u001b[?25h  Created wheel for gym: filename=gym-0.14.0-py3-none-any.whl size=1637524 sha256=46124b736572b8372717e975cd8b05bb8da1aa9d02b8c19347c6d6d01b88b922\n",
      "  Stored in directory: /home/jovyan/.cache/pip/wheels/32/34/78/36550f249167fda9e42e1dd9af84b400abf6c162d1c07ab4e1\n",
      "Successfully built gym\n",
      "Installing collected packages: pyglet, cloudpickle, gym\n",
      "Successfully installed cloudpickle-1.2.2 gym-0.14.0 pyglet-1.3.2\n"
     ]
    }
   ],
   "source": [
    "pip3 install gym==0.14"
   ]
  },
  {
   "cell_type": "code",
   "execution_count": 13,
   "metadata": {},
   "outputs": [
    {
     "name": "stdout",
     "output_type": "stream",
     "text": [
      "gym                0.14.0   \n"
     ]
    }
   ],
   "source": [
    "pip3 list | grep gym"
   ]
  },
  {
   "cell_type": "code",
   "execution_count": 4,
   "metadata": {},
   "outputs": [
    {
     "name": "stdout",
     "output_type": "stream",
     "text": [
      "Defaulting to user installation because normal site-packages is not writeable\n",
      "Collecting ax-platform\n",
      "  Downloading ax_platform-0.1.11-py3-none-any.whl (522 kB)\n",
      "\u001b[K     |████████████████████████████████| 522 kB 1.2 MB/s \n",
      "\u001b[?25hRequirement already satisfied: scipy in /usr/local/lib/python3.7/dist-packages (from ax-platform) (1.4.1)\n",
      "Requirement already satisfied: jinja2 in /usr/local/lib/python3.7/dist-packages (from ax-platform) (2.11.2)\n",
      "Collecting botorch>=0.2.2\n",
      "  Downloading botorch-0.2.3-py3-none-any.whl (259 kB)\n",
      "\u001b[K     |████████████████████████████████| 259 kB 1.6 MB/s \n",
      "\u001b[?25hCollecting scikit-learn\n",
      "  Downloading scikit_learn-0.22.2.post1-cp37-cp37m-manylinux1_x86_64.whl (7.1 MB)\n",
      "\u001b[K     |████████████████████████████████| 7.1 MB 1.8 MB/s \n",
      "\u001b[?25hRequirement already satisfied: pandas in /usr/local/lib/python3.7/dist-packages (from ax-platform) (1.0.3)\n",
      "Collecting plotly\n",
      "  Downloading plotly-4.6.0-py2.py3-none-any.whl (7.1 MB)\n",
      "\u001b[K     |████████████████████████████████| 7.1 MB 1.6 MB/s \n",
      "\u001b[?25hRequirement already satisfied: numpy>=1.13.3 in /usr/local/lib/python3.7/dist-packages (from scipy->ax-platform) (1.18.3)\n",
      "Requirement already satisfied: MarkupSafe>=0.23 in /usr/local/lib/python3.7/dist-packages (from jinja2->ax-platform) (1.1.1)\n",
      "Collecting gpytorch>=1.1.1\n",
      "  Downloading gpytorch-1.1.1.tar.gz (240 kB)\n",
      "\u001b[K     |████████████████████████████████| 240 kB 1.7 MB/s \n",
      "\u001b[?25hRequirement already satisfied: torch>=1.4 in /usr/local/lib/python3.7/dist-packages (from botorch>=0.2.2->ax-platform) (1.5.0)\n",
      "Collecting joblib>=0.11\n",
      "  Downloading joblib-0.14.1-py2.py3-none-any.whl (294 kB)\n",
      "\u001b[K     |████████████████████████████████| 294 kB 1.6 MB/s \n",
      "\u001b[?25hRequirement already satisfied: pytz>=2017.2 in /usr/local/lib/python3.7/dist-packages (from pandas->ax-platform) (2019.3)\n",
      "Requirement already satisfied: python-dateutil>=2.6.1 in /usr/local/lib/python3.7/dist-packages (from pandas->ax-platform) (2.8.1)\n",
      "Collecting retrying>=1.3.3\n",
      "  Downloading retrying-1.3.3.tar.gz (10 kB)\n",
      "Requirement already satisfied: six in /usr/local/lib/python3.7/dist-packages (from plotly->ax-platform) (1.14.0)\n",
      "Requirement already satisfied: future in /usr/local/lib/python3.7/dist-packages (from torch>=1.4->botorch>=0.2.2->ax-platform) (0.18.2)\n",
      "Building wheels for collected packages: gpytorch, retrying\n",
      "  Building wheel for gpytorch (setup.py) ... \u001b[?25ldone\n",
      "\u001b[?25h  Created wheel for gpytorch: filename=gpytorch-1.1.1-py2.py3-none-any.whl size=400467 sha256=7f7f241e7abb3103c60faf2a873a92f3d3f9c7585a6d259d1be9256c4d0d8516\n",
      "  Stored in directory: /home/jovyan/.cache/pip/wheels/96/d6/5d/da219e96d14332c33127bef24e9827a49fd174200cae967dce\n",
      "  Building wheel for retrying (setup.py) ... \u001b[?25ldone\n",
      "\u001b[?25h  Created wheel for retrying: filename=retrying-1.3.3-py3-none-any.whl size=11430 sha256=8ce70fb716c785b108846e54cd9cc1f944e34e20641d4e7b464fa941d93cab71\n",
      "  Stored in directory: /home/jovyan/.cache/pip/wheels/f9/8d/8d/f6af3f7f9eea3553bc2fe6d53e4b287dad18b06a861ac56ddf\n",
      "Successfully built gpytorch retrying\n",
      "Installing collected packages: gpytorch, botorch, joblib, scikit-learn, retrying, plotly, ax-platform\n",
      "Successfully installed ax-platform-0.1.11 botorch-0.2.3 gpytorch-1.1.1 joblib-0.14.1 plotly-4.6.0 retrying-1.3.3 scikit-learn-0.22.2.post1\n"
     ]
    }
   ],
   "source": [
    "pip3 install ax-platform"
   ]
  },
  {
   "cell_type": "markdown",
   "metadata": {},
   "source": [
    "## Q-Learning"
   ]
  },
  {
   "cell_type": "markdown",
   "metadata": {},
   "source": [
    "### Run1"
   ]
  },
  {
   "cell_type": "markdown",
   "metadata": {},
   "source": [
    "$\\gamma$: float = 0.9\n",
    "\n",
    "$\\alpha$: float = 0.05\n",
    "\n",
    "$\\epsilon_{t+1}$ = max($\\epsilon_t$*0.99993, 0.005)"
   ]
  },
  {
   "cell_type": "code",
   "execution_count": 16,
   "metadata": {},
   "outputs": [
    {
     "name": "stdout",
     "output_type": "stream",
     "text": [
      "Episode 20000/20000 || Best average reward 9.19\n",
      "\n"
     ]
    }
   ],
   "source": [
    "python3 main.py"
   ]
  },
  {
   "cell_type": "markdown",
   "metadata": {},
   "source": [
    "### Run2"
   ]
  },
  {
   "cell_type": "markdown",
   "metadata": {},
   "source": [
    "$\\gamma$: float = 0.9\n",
    "\n",
    "**$\\alpha$: float = 0.1**\n",
    "\n",
    "$\\epsilon_{t+1}$ = max($\\epsilon_t$*0.99993, 0.005)\n"
   ]
  },
  {
   "cell_type": "code",
   "execution_count": 17,
   "metadata": {},
   "outputs": [
    {
     "name": "stdout",
     "output_type": "stream",
     "text": [
      "Episode 20000/20000 || Best average reward 9.2\n",
      "\n"
     ]
    }
   ],
   "source": [
    "python3 main.py"
   ]
  },
  {
   "cell_type": "markdown",
   "metadata": {},
   "source": [
    "### Run3"
   ]
  },
  {
   "cell_type": "markdown",
   "metadata": {},
   "source": [
    "$\\gamma$: float = 0.9\n",
    "\n",
    "$\\alpha$: float = 0.1\n",
    "\n",
    "**$\\epsilon_{t+1}$ = max($\\epsilon_t$*0.99999, 0.005)**"
   ]
  },
  {
   "cell_type": "code",
   "execution_count": 18,
   "metadata": {},
   "outputs": [
    {
     "name": "stdout",
     "output_type": "stream",
     "text": [
      "Episode 20000/20000 || Best average reward 8.16\n",
      "\n"
     ]
    }
   ],
   "source": [
    "python3 main.py"
   ]
  },
  {
   "cell_type": "markdown",
   "metadata": {},
   "source": [
    "### Run4"
   ]
  },
  {
   "cell_type": "markdown",
   "metadata": {},
   "source": [
    "$\\gamma$: float = 0.9\n",
    "\n",
    "$\\alpha$: float = 0.1\n",
    "\n",
    "**$\\epsilon_{t+1}$ = max($\\epsilon_t$*0.99991, 0.005)**\n"
   ]
  },
  {
   "cell_type": "code",
   "execution_count": 19,
   "metadata": {},
   "outputs": [
    {
     "name": "stdout",
     "output_type": "stream",
     "text": [
      "Episode 20000/20000 || Best average reward 9.06\n",
      "\n"
     ]
    }
   ],
   "source": [
    "python3 main.py"
   ]
  },
  {
   "cell_type": "markdown",
   "metadata": {},
   "source": [
    "### Run5"
   ]
  },
  {
   "cell_type": "markdown",
   "metadata": {},
   "source": [
    "$\\gamma$: float = 0.9\n",
    "\n",
    "**$\\alpha$: float = 0.05**\n",
    "\n",
    "$\\epsilon_{t+1}$ = max($\\epsilon_t$*0.99991, 0.005)\n"
   ]
  },
  {
   "cell_type": "code",
   "execution_count": 20,
   "metadata": {},
   "outputs": [
    {
     "name": "stdout",
     "output_type": "stream",
     "text": [
      "Episode 20000/20000 || Best average reward 9.3\n",
      "\n"
     ]
    }
   ],
   "source": [
    "python3 main.py"
   ]
  },
  {
   "cell_type": "markdown",
   "metadata": {},
   "source": [
    "### Run6"
   ]
  },
  {
   "cell_type": "markdown",
   "metadata": {},
   "source": [
    "$\\gamma$: float = 0.9\n",
    "\n",
    "$\\alpha$: float = 0.05\n",
    "\n",
    "**$\\epsilon_{t+1}$ = max($\\epsilon_t$*0.99999, 0.005)**\n"
   ]
  },
  {
   "cell_type": "code",
   "execution_count": 21,
   "metadata": {},
   "outputs": [
    {
     "name": "stdout",
     "output_type": "stream",
     "text": [
      "Episode 20000/20000 || Best average reward 9.02\n",
      "\n"
     ]
    }
   ],
   "source": [
    "python3 main.py"
   ]
  },
  {
   "cell_type": "markdown",
   "metadata": {},
   "source": [
    "### Run7"
   ]
  },
  {
   "cell_type": "markdown",
   "metadata": {},
   "source": [
    "$\\gamma$: float = 0.9\n",
    "\n",
    "$\\alpha$: float = 0.025\n",
    "\n",
    "**$\\epsilon_{t+1}$ = $\\frac{\\epsilon_t}{t}$**\n"
   ]
  },
  {
   "cell_type": "code",
   "execution_count": 32,
   "metadata": {},
   "outputs": [
    {
     "name": "stdout",
     "output_type": "stream",
     "text": [
      "Episode 20000/20000 || Best average reward 9.12\n",
      "\n"
     ]
    }
   ],
   "source": [
    "python3 main.py"
   ]
  },
  {
   "cell_type": "markdown",
   "metadata": {},
   "source": [
    "## Expected SARSA"
   ]
  },
  {
   "cell_type": "markdown",
   "metadata": {},
   "source": [
    "### Run1"
   ]
  },
  {
   "cell_type": "markdown",
   "metadata": {},
   "source": [
    "$\\gamma$: float = 0.9\n",
    "\n",
    "$\\alpha$: float = 0.05\n",
    "\n",
    "$\\epsilon_{t+1}$ = max($\\epsilon_t$*0.99993, 0.005)\n"
   ]
  },
  {
   "cell_type": "code",
   "execution_count": 22,
   "metadata": {},
   "outputs": [
    {
     "name": "stdout",
     "output_type": "stream",
     "text": [
      "Episode 20000/20000 || Best average reward 9.19\n",
      "\n"
     ]
    }
   ],
   "source": [
    "python3 main.py"
   ]
  },
  {
   "cell_type": "markdown",
   "metadata": {},
   "source": [
    "### Run2"
   ]
  },
  {
   "cell_type": "markdown",
   "metadata": {},
   "source": [
    "$\\gamma$: float = 0.9\n",
    "\n",
    "**$\\alpha$: float = 0.1**\n",
    "\n",
    "$\\epsilon_{t+1}$ = max($\\epsilon_t$*0.99993, 0.005)\n"
   ]
  },
  {
   "cell_type": "code",
   "execution_count": 25,
   "metadata": {},
   "outputs": [
    {
     "name": "stdout",
     "output_type": "stream",
     "text": [
      "Episode 20000/20000 || Best average reward 9.12\n",
      "\n"
     ]
    }
   ],
   "source": [
    "python3 main.py"
   ]
  },
  {
   "cell_type": "markdown",
   "metadata": {},
   "source": [
    "### Run3"
   ]
  },
  {
   "cell_type": "markdown",
   "metadata": {},
   "source": [
    "$\\gamma$: float = 0.9\n",
    "\n",
    "**$\\alpha$: float = 0.15**\n",
    "\n",
    "$\\epsilon_{t+1}$ = max($\\epsilon_t$*0.99993, 0.005)\n"
   ]
  },
  {
   "cell_type": "code",
   "execution_count": 26,
   "metadata": {},
   "outputs": [
    {
     "name": "stdout",
     "output_type": "stream",
     "text": [
      "Episode 20000/20000 || Best average reward 9.19\n",
      "\n"
     ]
    }
   ],
   "source": [
    "python3 main.py"
   ]
  },
  {
   "cell_type": "markdown",
   "metadata": {},
   "source": [
    "### Run4"
   ]
  },
  {
   "cell_type": "markdown",
   "metadata": {},
   "source": [
    "$\\gamma$: float = 0.9\n",
    "\n",
    "$\\alpha$: float = 0.15\n",
    "\n",
    "**$\\epsilon_{t+1}$ = $\\frac{\\epsilon_t}{t}$**\n"
   ]
  },
  {
   "cell_type": "code",
   "execution_count": 27,
   "metadata": {},
   "outputs": [
    {
     "name": "stdout",
     "output_type": "stream",
     "text": [
      "Episode 20000/20000 || Best average reward 9.28\n",
      "\n"
     ]
    }
   ],
   "source": [
    "python3 main.py"
   ]
  },
  {
   "cell_type": "markdown",
   "metadata": {},
   "source": [
    "### Run5"
   ]
  },
  {
   "cell_type": "markdown",
   "metadata": {},
   "source": [
    "$\\gamma$: float = 0.9\n",
    "\n",
    "**$\\alpha$: float = 0.05**\n",
    "\n",
    "**$\\epsilon_{t+1}$ = $\\frac{\\epsilon_t}{t}$**\n"
   ]
  },
  {
   "cell_type": "code",
   "execution_count": 30,
   "metadata": {},
   "outputs": [
    {
     "name": "stdout",
     "output_type": "stream",
     "text": [
      "Episode 20000/20000 || Best average reward 9.33\n",
      "\n"
     ]
    }
   ],
   "source": [
    "python3 main.py"
   ]
  },
  {
   "cell_type": "markdown",
   "metadata": {},
   "source": [
    "### Run6"
   ]
  },
  {
   "cell_type": "markdown",
   "metadata": {},
   "source": [
    "$\\gamma$: float = 0.9\n",
    "\n",
    "$\\alpha$: float = 0.025\n",
    "\n",
    "**$\\epsilon_{t+1}$ = $\\frac{\\epsilon_t}{t}$**\n"
   ]
  },
  {
   "cell_type": "code",
   "execution_count": 31,
   "metadata": {},
   "outputs": [
    {
     "name": "stdout",
     "output_type": "stream",
     "text": [
      "Episode 20000/20000 || Best average reward 9.31\n",
      "\n"
     ]
    }
   ],
   "source": [
    "python3 main.py"
   ]
  },
  {
   "cell_type": "markdown",
   "metadata": {},
   "source": [
    "## SARSA"
   ]
  },
  {
   "cell_type": "markdown",
   "metadata": {},
   "source": [
    "### Run1"
   ]
  },
  {
   "cell_type": "markdown",
   "metadata": {},
   "source": [
    "$\\gamma$: float = 0.9\n",
    "\n",
    "$\\alpha$: float = 0.05\n",
    "\n",
    "**$\\epsilon_{t+1}$ = $\\frac{\\epsilon_t}{t}$**\n"
   ]
  },
  {
   "cell_type": "code",
   "execution_count": 33,
   "metadata": {},
   "outputs": [
    {
     "name": "stdout",
     "output_type": "stream",
     "text": [
      "Episode 20000/20000 || Best average reward 9.3\n",
      "\n"
     ]
    }
   ],
   "source": [
    "python3 main.py"
   ]
  },
  {
   "cell_type": "markdown",
   "metadata": {},
   "source": [
    "### Run2"
   ]
  },
  {
   "cell_type": "markdown",
   "metadata": {},
   "source": [
    "$\\gamma$: float = 0.9\n",
    "\n",
    "$\\alpha$: float = 0.05\n",
    "\n",
    "**$\\epsilon_{t+1}$ = max($\\epsilon_t$*0.99999, 0.005)**\n"
   ]
  },
  {
   "cell_type": "code",
   "execution_count": 34,
   "metadata": {},
   "outputs": [
    {
     "name": "stdout",
     "output_type": "stream",
     "text": [
      "Episode 20000/20000 || Best average reward 9.18\n",
      "\n"
     ]
    }
   ],
   "source": [
    "python3 main.py"
   ]
  },
  {
   "cell_type": "markdown",
   "metadata": {},
   "source": [
    "### Run3"
   ]
  },
  {
   "cell_type": "markdown",
   "metadata": {},
   "source": [
    "$\\gamma$: float = 0.9\n",
    "\n",
    "**$\\alpha$: float = 0.5**\n",
    "\n",
    "$\\epsilon_{t+1}$ = max($\\epsilon_t$*0.99999, 0.005)\n"
   ]
  },
  {
   "cell_type": "code",
   "execution_count": 38,
   "metadata": {},
   "outputs": [
    {
     "name": "stdout",
     "output_type": "stream",
     "text": [
      "Episode 20000/20000 || Best average reward 8.34\n",
      "\n"
     ]
    }
   ],
   "source": [
    "python3 main.py"
   ]
  }
 ],
 "metadata": {
  "kernelspec": {
   "display_name": "Bash",
   "language": "bash",
   "name": "bash"
  },
  "language_info": {
   "codemirror_mode": "shell",
   "file_extension": ".sh",
   "mimetype": "text/x-sh",
   "name": "bash"
  }
 },
 "nbformat": 4,
 "nbformat_minor": 4
}
